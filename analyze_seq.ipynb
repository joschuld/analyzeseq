{
 "cells": [
  {
   "cell_type": "code",
   "execution_count": 1,
   "metadata": {},
   "outputs": [
    {
     "name": "stdout",
     "output_type": "stream",
     "text": [
      "The id is >2L type=go and the seq length is 23513712\n",
      "The id is >2R type=go and the seq length is 25286936\n",
      "The id is >3L type=go and the seq length is 28110227\n",
      "The id is >3R type=go and the seq length is 32079331\n",
      "The id is >4 type=gol and the seq length is 1348131\n",
      "The id is >X type=gol and the seq length is 23542271\n",
      "The id is >Y type=gol and the seq length is 3667352\n"
     ]
    }
   ],
   "source": [
    "#This gets the first 7 definition lines of the FASTA file, respresenting the chromosomes of d. melanogaster, and reports the chromosome length\n",
    "\n",
    "import re\n",
    "\n",
    "\n",
    "def analyze_seq(id,seq):\n",
    "    x = re.search(r'>..........', id)\n",
    "    new_id = x.group(0)\n",
    "    length = len(seq)\n",
    "    print('The id is ' + new_id + '' + ' and the seq length is ' + str(length))\n",
    "    \n",
    "my_file = open('dmel_chr.FASTA')\n",
    "\n",
    "id = ''\n",
    "seq = ''\n",
    "\n",
    "count = 0\n",
    "for x in my_file:\n",
    "    if (count < 7):\n",
    "        if re.search(r'^>', x):\n",
    "            if id != '':\n",
    "                analyze_seq(id, seq)\n",
    "                \n",
    "                count = count + 1\n",
    "            id = x.rstrip('\\n')\n",
    "            seq = ''\n",
    "        else:\n",
    "            seq = seq + x.rstrip('\\n')\n"
   ]
  },
  {
   "cell_type": "code",
   "execution_count": null,
   "metadata": {},
   "outputs": [],
   "source": []
  }
 ],
 "metadata": {
  "kernelspec": {
   "display_name": "Python 3",
   "language": "python",
   "name": "python3"
  },
  "language_info": {
   "codemirror_mode": {
    "name": "ipython",
    "version": 3
   },
   "file_extension": ".py",
   "mimetype": "text/x-python",
   "name": "python",
   "nbconvert_exporter": "python",
   "pygments_lexer": "ipython3",
   "version": "3.8.5"
  }
 },
 "nbformat": 4,
 "nbformat_minor": 4
}
