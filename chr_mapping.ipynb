{
 "cells": [
  {
   "cell_type": "code",
   "execution_count": 1,
   "metadata": {},
   "outputs": [
    {
     "data": {
      "image/png": "[encoded data removed]",
      "text/plain": [
       "<Figure size 432x288 with 1 Axes>"
      ]
     },
     "metadata": {
      "needs_background": "light"
     },
     "output_type": "display_data"
    }
   ],
   "source": [
    "# I manually inserted the lengths of each chromosome to test the plotting. I need to incorporate this with my analyze seq function so it happens automatically \n",
    "\n",
    "import matplotlib.pyplot as plt\n",
    "\n",
    "#2L = 23513712\n",
    "#2R = 25286936\n",
    "#3L = 28110227\n",
    "#3R = 32079331\n",
    "#4 = 1348131\n",
    "#X = 23542271\n",
    "#Y = 3667352\n",
    "\n",
    "widths = [23513712, 25286936, 28110227, 32079331, 1348131, 23542271, 3667352]\n",
    "names = ['Chr 2L','Chr 2R','Chr 3L','Chr 3R','Chr 4','Chr X','Chr Y'] \n",
    "y_start = 30000\n",
    "\n",
    "i = 0\n",
    "for x in widths:\n",
    "\twidth = (x / 1000)  \n",
    "\ty_start = y_start - 3000\n",
    "\tplt.text(0, y_start + 1100, names[i])\n",
    "\trectangle = plt.Rectangle((0, y_start), width, 1000, ec='k', fc='w')\n",
    "\tplt.gca().add_patch(rectangle)\n",
    "\ti = i + 1\n",
    "\n",
    "plt.axis('scaled')\n",
    "plt.axis('off')\n",
    "plt.show()"
   ]
  },
  {
   "cell_type": "code",
   "execution_count": null,
   "metadata": {},
   "outputs": [],
   "source": []
  }
 ],
 "metadata": {
  "kernelspec": {
   "display_name": "Python 3",
   "language": "python",
   "name": "python3"
  },
  "language_info": {
   "codemirror_mode": {
    "name": "ipython",
    "version": 3
   },
   "file_extension": ".py",
   "mimetype": "text/x-python",
   "name": "python",
   "nbconvert_exporter": "python",
   "pygments_lexer": "ipython3",
   "version": "3.8.5"
  }
 },
 "nbformat": 4,
 "nbformat_minor": 4
}
